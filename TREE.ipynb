{
 "cells": [
  {
   "attachments": {},
   "cell_type": "markdown",
   "metadata": {},
   "source": [
    "# requirements for graph subsystem\n",
    "1. provides a graph, which is a collection of vertices and edges\n",
    "1. the system must allow multiple graphs to be created\n",
    "1. allow comparison 2 graphs for equality\n",
    "1. graph must have a root vertex\n",
    "1. graps, vertices, and edges must all have unique identifier\n",
    "1. a complete graph must be fully connected ie must be able to traverse from the root vertex to any other vertex in the graph\n",
    "    - a complete graph is defined as having only one vertex (the root) with no incoming edges\n",
    "1. for now, vertex and edge properties are not required\n",
    "1. a graph must allow vertices and edges to be added\n",
    "1. vertices\n",
    "    - vertices must have a type\n",
    "1. edges\n",
    "    - connects 2 vertices\n",
    "    - has a from vertex and a to vertex\n",
    "    - store the type of a relationship eg parent/child\n",
    "1. remove vertices and edges\n",
    "    - vertex must have 0 or 1 children\n",
    "    - edges must have the same type\n",
    "    - if 0 children:\n",
    "        - vertex and incoming edge are removed\n",
    "    - if 1 child:\n",
    "        - new edge between child and grandparent of same type of edge between parent/child\n",
    "        - parent and its incoming/outgoing edges removed"
   ]
  },
  {
   "attachments": {},
   "cell_type": "markdown",
   "metadata": {},
   "source": [
    "# requirements for TREE problem\n",
    "\n",
    "1. vertex type is an integer (1+)\n",
    "1. edge type is only 1 - parent/child"
   ]
  },
  {
   "attachments": {},
   "cell_type": "markdown",
   "metadata": {},
   "source": [
    "# implementation choices\n",
    "\n",
    "1. edge type is an integer with a constant value of 0 representing parent/child\n",
    "1. vertex types are integers with value 1+"
   ]
  },
  {
   "attachments": {},
   "cell_type": "markdown",
   "metadata": {},
   "source": [
    "Edge Class"
   ]
  },
  {
   "cell_type": "code",
   "execution_count": 2,
   "metadata": {},
   "outputs": [],
   "source": [
    "class Edge:\n",
    "    def __init__(self, id:int, fromVertex, toVertex):\n",
    "        self.id = id\n",
    "        self.edgeType = 0\n",
    "        self.fromVertex = fromVertex\n",
    "        self.toVertex = toVertex\n",
    "\n",
    "    def vertexFrom(self):\n",
    "        return self.fromVertex\n",
    "    \n",
    "    def vertexTo(self):\n",
    "        return self.toVertex"
   ]
  },
  {
   "attachments": {},
   "cell_type": "markdown",
   "metadata": {},
   "source": [
    "Vertex Class"
   ]
  },
  {
   "cell_type": "code",
   "execution_count": 3,
   "metadata": {},
   "outputs": [],
   "source": [
    "class Vertex:\n",
    "    def __init__(self, id:int, vertexType:int):\n",
    "        self.id = id\n",
    "        self.vertexType = vertexType\n",
    "        self.__incomingEdges = []\n",
    "        self.__outgoingEdges = []\n",
    "\n",
    "    def addEdge(self, edge:Edge):\n",
    "        if edge.fromVertex == self:\n",
    "            self.__outgoingEdges.append(edge)\n",
    "        else:\n",
    "            self.__incomingEdges.append(edge)\n",
    "\n",
    "    def removeEdge(self, edge:Edge):\n",
    "        if edge in self.__incomingEdges:\n",
    "            self.__incomingEdges.remove(edge)\n",
    "        elif edge in self.__outgoingEdges:\n",
    "            self.__outgoingEdges.remove(edge)\n",
    "\n",
    "    def isRoot(self):\n",
    "        if self.__incomingEdges == 0:\n",
    "            return True\n",
    "        else:\n",
    "            return False\n",
    "        \n",
    "    def childCount(self):\n",
    "        return len(self.__outgoingEdges)\n",
    "    \n",
    "    def incomingEdges(self):\n",
    "        return self.__incomingEdges\n",
    "    \n",
    "    def outgoingEdges(self):\n",
    "        return self.__outgoingEdges\n",
    "    \n",
    "    def parent(self):\n",
    "        if len(self.__incomingEdges) == 1:\n",
    "            return self.__incomingEdges[0].vertexFrom()\n",
    "\n",
    "    def child(self):\n",
    "        if len(self.__outgoingEdges) == 1:\n",
    "            return self.__outgoingEdges[0].vertexTo()\n",
    "\n",
    "    def printVertex(self):\n",
    "        print(f'vertex id = {self.id}, type = {self.vertexType}, incoming = {len(self.__incomingEdges)}, outgoing = {len(self.__outgoingEdges)}')"
   ]
  },
  {
   "attachments": {},
   "cell_type": "markdown",
   "metadata": {},
   "source": [
    "Graph class - vertex and edge management happens here"
   ]
  },
  {
   "cell_type": "code",
   "execution_count": 4,
   "metadata": {},
   "outputs": [],
   "source": [
    "class Graph:\n",
    "    def __init__(self, id:int):\n",
    "        self.id = id\n",
    "        self.__vertexCounter = 1\n",
    "        self.__edgeCounter = 1\n",
    "        self.__vertices = []\n",
    "        self.__edges = []\n",
    "\n",
    "    def __resetGraph(self):\n",
    "        self.__vertexCounter = 1\n",
    "        self.__edgeCounter = 1\n",
    "        self.__vertices.clear()\n",
    "        self.__edges.clear()\n",
    "\n",
    "    def getRootVertext(self):\n",
    "        return self.__vertices[0]\n",
    "\n",
    "    def createRoot(self, vertexType:int):\n",
    "        self.__resetGraph()\n",
    "        self.__vertices.append(Vertex(self.__vertexCounter,vertexType))\n",
    "        self.__vertexCounter += 1\n",
    "        return self.__vertices[0]\n",
    "    \n",
    "    def createChildVertex(self, parentVertex:Vertex, childVertexType:int):\n",
    "        childVertex = Vertex(self.__vertexCounter, childVertexType)\n",
    "        edge = Edge(self.__edgeCounter, parentVertex, childVertex)\n",
    "        parentVertex.addEdge(edge)\n",
    "        childVertex.addEdge(edge)\n",
    "        self.__vertexCounter += 1\n",
    "        \n",
    "        self.__vertices.append(childVertex)\n",
    "        self.__edges.append(edge)\n",
    "        return childVertex\n",
    "    \n",
    "    def removeVertex(self, vertexToRemove:Vertex):\n",
    "        if vertexToRemove.isRoot():\n",
    "            self.__resetGraph()\n",
    "        elif vertexToRemove.childCount() < 2:\n",
    "            if vertexToRemove.childCount() == 1:\n",
    "                parent = vertexToRemove.parent()\n",
    "                child = vertexToRemove.child()\n",
    "\n",
    "                edge = Edge(self.__edgeCounter, parent, child)\n",
    "                self.__edgeCounter += 1\n",
    "\n",
    "                edgeToRemove = vertexToRemove.outgoingEdges()[0]\n",
    "                self.__edges.remove(edgeToRemove)\n",
    "                self.__edgeCounter -= 1\n",
    "            for edge in vertexToRemove.incomingEdges():\n",
    "                self.__edges.remove(edge)\n",
    "                self.__edgeCounter -= 1\n",
    "            self.__vertices.remove(vertexToRemove)\n",
    "            self.__vertexCounter -= 1\n",
    "\n",
    "    def printGraph(self):\n",
    "        for vertex in self.__vertices:\n",
    "            vertex.printVertex()"
   ]
  },
  {
   "attachments": {},
   "cell_type": "markdown",
   "metadata": {},
   "source": [
    "Bit of test code to explore the graph"
   ]
  },
  {
   "cell_type": "code",
   "execution_count": 5,
   "metadata": {},
   "outputs": [
    {
     "name": "stdout",
     "output_type": "stream",
     "text": [
      "vertex id = 1, type = 1, incoming = 0, outgoing = 2\n",
      "vertex id = 2, type = 2, incoming = 1, outgoing = 0\n",
      "vertex id = 3, type = 2, incoming = 1, outgoing = 1\n",
      "vertex id = 4, type = 1, incoming = 1, outgoing = 1\n",
      "vertex id = 5, type = 1, incoming = 1, outgoing = 0\n",
      "\n",
      "\n",
      "vertex id = 1, type = 1, incoming = 0, outgoing = 2\n",
      "vertex id = 2, type = 2, incoming = 1, outgoing = 0\n",
      "vertex id = 3, type = 2, incoming = 1, outgoing = 1\n",
      "vertex id = 5, type = 1, incoming = 1, outgoing = 0\n"
     ]
    }
   ],
   "source": [
    "myGraph = Graph(1)\n",
    "root = myGraph.createRoot(1)\n",
    "myGraph.createChildVertex(root, 2)\n",
    "firstChild = myGraph.createChildVertex(root, 2)\n",
    "secondChild = myGraph.createChildVertex(firstChild, 1)\n",
    "myGraph.createChildVertex(secondChild, 1)\n",
    "myGraph.printGraph()\n",
    "\n",
    "# remove second child\n",
    "myGraph.removeVertex(secondChild)\n",
    "print(\"\\n\")\n",
    "myGraph.printGraph()\n",
    "bob=1\n",
    "# foo"
   ]
  }
 ],
 "metadata": {
  "kernelspec": {
   "display_name": "Python 3",
   "language": "python",
   "name": "python3"
  },
  "language_info": {
   "codemirror_mode": {
    "name": "ipython",
    "version": 3
   },
   "file_extension": ".py",
   "mimetype": "text/x-python",
   "name": "python",
   "nbconvert_exporter": "python",
   "pygments_lexer": "ipython3",
   "version": "3.10.6"
  },
  "orig_nbformat": 4
 },
 "nbformat": 4,
 "nbformat_minor": 2
}
